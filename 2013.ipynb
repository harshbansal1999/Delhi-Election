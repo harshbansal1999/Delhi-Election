{
 "cells": [
  {
   "cell_type": "code",
   "execution_count": 2,
   "metadata": {},
   "outputs": [],
   "source": [
    "import pandas as pd\n",
    "import numpy as np\n",
    "import matplotlib.pyplot as plt\n",
    "import seaborn as sns\n",
    "%matplotlib inline"
   ]
  },
  {
   "cell_type": "code",
   "execution_count": 26,
   "metadata": {},
   "outputs": [],
   "source": [
    "df=pd.read_csv('tabula-2013.csv',header=None)"
   ]
  },
  {
   "cell_type": "code",
   "execution_count": 27,
   "metadata": {},
   "outputs": [
    {
     "data": {
      "text/html": [
       "<div>\n",
       "<style scoped>\n",
       "    .dataframe tbody tr th:only-of-type {\n",
       "        vertical-align: middle;\n",
       "    }\n",
       "\n",
       "    .dataframe tbody tr th {\n",
       "        vertical-align: top;\n",
       "    }\n",
       "\n",
       "    .dataframe thead th {\n",
       "        text-align: right;\n",
       "    }\n",
       "</style>\n",
       "<table border=\"1\" class=\"dataframe\">\n",
       "  <thead>\n",
       "    <tr style=\"text-align: right;\">\n",
       "      <th></th>\n",
       "      <th>0</th>\n",
       "      <th>1</th>\n",
       "      <th>2</th>\n",
       "      <th>3</th>\n",
       "      <th>4</th>\n",
       "      <th>5</th>\n",
       "      <th>6</th>\n",
       "      <th>7</th>\n",
       "      <th>8</th>\n",
       "      <th>9</th>\n",
       "      <th>10</th>\n",
       "    </tr>\n",
       "  </thead>\n",
       "  <tbody>\n",
       "    <tr>\n",
       "      <th>0</th>\n",
       "      <td>1</td>\n",
       "      <td>243.0</td>\n",
       "      <td>8.0</td>\n",
       "      <td>136.0</td>\n",
       "      <td>0.0</td>\n",
       "      <td>348.0</td>\n",
       "      <td>0.0</td>\n",
       "      <td>735.0</td>\n",
       "      <td>0.0</td>\n",
       "      <td>6.0</td>\n",
       "      <td>0.0</td>\n",
       "    </tr>\n",
       "    <tr>\n",
       "      <th>1</th>\n",
       "      <td>2</td>\n",
       "      <td>210.0</td>\n",
       "      <td>10.0</td>\n",
       "      <td>142.0</td>\n",
       "      <td>5.0</td>\n",
       "      <td>337.0</td>\n",
       "      <td>2.0</td>\n",
       "      <td>706.0</td>\n",
       "      <td>0.0</td>\n",
       "      <td>2.0</td>\n",
       "      <td>0.0</td>\n",
       "    </tr>\n",
       "    <tr>\n",
       "      <th>2</th>\n",
       "      <td>3</td>\n",
       "      <td>297.0</td>\n",
       "      <td>2.0</td>\n",
       "      <td>102.0</td>\n",
       "      <td>7.0</td>\n",
       "      <td>325.0</td>\n",
       "      <td>2.0</td>\n",
       "      <td>735.0</td>\n",
       "      <td>0.0</td>\n",
       "      <td>7.0</td>\n",
       "      <td>0.0</td>\n",
       "    </tr>\n",
       "    <tr>\n",
       "      <th>3</th>\n",
       "      <td>4</td>\n",
       "      <td>183.0</td>\n",
       "      <td>4.0</td>\n",
       "      <td>83.0</td>\n",
       "      <td>1.0</td>\n",
       "      <td>348.0</td>\n",
       "      <td>2.0</td>\n",
       "      <td>621.0</td>\n",
       "      <td>0.0</td>\n",
       "      <td>1.0</td>\n",
       "      <td>0.0</td>\n",
       "    </tr>\n",
       "    <tr>\n",
       "      <th>4</th>\n",
       "      <td>5</td>\n",
       "      <td>223.0</td>\n",
       "      <td>2.0</td>\n",
       "      <td>96.0</td>\n",
       "      <td>3.0</td>\n",
       "      <td>387.0</td>\n",
       "      <td>1.0</td>\n",
       "      <td>712.0</td>\n",
       "      <td>0.0</td>\n",
       "      <td>0.0</td>\n",
       "      <td>0.0</td>\n",
       "    </tr>\n",
       "  </tbody>\n",
       "</table>\n",
       "</div>"
      ],
      "text/plain": [
       "  0      1     2      3    4      5    6      7    8    9    10\n",
       "0  1  243.0   8.0  136.0  0.0  348.0  0.0  735.0  0.0  6.0  0.0\n",
       "1  2  210.0  10.0  142.0  5.0  337.0  2.0  706.0  0.0  2.0  0.0\n",
       "2  3  297.0   2.0  102.0  7.0  325.0  2.0  735.0  0.0  7.0  0.0\n",
       "3  4  183.0   4.0   83.0  1.0  348.0  2.0  621.0  0.0  1.0  0.0\n",
       "4  5  223.0   2.0   96.0  3.0  387.0  1.0  712.0  0.0  0.0  0.0"
      ]
     },
     "execution_count": 27,
     "metadata": {},
     "output_type": "execute_result"
    }
   ],
   "source": [
    "df.head()"
   ]
  },
  {
   "cell_type": "code",
   "execution_count": 28,
   "metadata": {},
   "outputs": [
    {
     "data": {
      "text/plain": [
       "(157, 11)"
      ]
     },
     "execution_count": 28,
     "metadata": {},
     "output_type": "execute_result"
    }
   ],
   "source": [
    "df.shape"
   ]
  },
  {
   "cell_type": "code",
   "execution_count": 29,
   "metadata": {},
   "outputs": [],
   "source": [
    "df.columns=['Pooling_Station_Number','Ajay_Kumar','Mukesh_Bharadwaj','Virender_kasan','Nanhey_Khan','Saurabh_Bharadwaj',\n",
    "            'Ashok_Kumar','Total_Of_Valid_Votes','No._Of_Rejected_Votes','Total_Votes_For_NOTA','No._Of_Tendered_Votes']"
   ]
  },
  {
   "cell_type": "code",
   "execution_count": 30,
   "metadata": {},
   "outputs": [
    {
     "data": {
      "text/html": [
       "<div>\n",
       "<style scoped>\n",
       "    .dataframe tbody tr th:only-of-type {\n",
       "        vertical-align: middle;\n",
       "    }\n",
       "\n",
       "    .dataframe tbody tr th {\n",
       "        vertical-align: top;\n",
       "    }\n",
       "\n",
       "    .dataframe thead th {\n",
       "        text-align: right;\n",
       "    }\n",
       "</style>\n",
       "<table border=\"1\" class=\"dataframe\">\n",
       "  <thead>\n",
       "    <tr style=\"text-align: right;\">\n",
       "      <th></th>\n",
       "      <th>Pooling_Station_Number</th>\n",
       "      <th>Ajay_Kumar</th>\n",
       "      <th>Mukesh_Bharadwaj</th>\n",
       "      <th>Virender_kasan</th>\n",
       "      <th>Nanhey_Khan</th>\n",
       "      <th>Saurabh_Bharadwaj</th>\n",
       "      <th>Ashok_Kumar</th>\n",
       "      <th>Total_Of_Valid_Votes</th>\n",
       "      <th>No._Of_Rejected_Votes</th>\n",
       "      <th>Total_Votes_For_NOTA</th>\n",
       "      <th>No._Of_Tendered_Votes</th>\n",
       "    </tr>\n",
       "  </thead>\n",
       "  <tbody>\n",
       "    <tr>\n",
       "      <th>0</th>\n",
       "      <td>1</td>\n",
       "      <td>243.0</td>\n",
       "      <td>8.0</td>\n",
       "      <td>136.0</td>\n",
       "      <td>0.0</td>\n",
       "      <td>348.0</td>\n",
       "      <td>0.0</td>\n",
       "      <td>735.0</td>\n",
       "      <td>0.0</td>\n",
       "      <td>6.0</td>\n",
       "      <td>0.0</td>\n",
       "    </tr>\n",
       "    <tr>\n",
       "      <th>1</th>\n",
       "      <td>2</td>\n",
       "      <td>210.0</td>\n",
       "      <td>10.0</td>\n",
       "      <td>142.0</td>\n",
       "      <td>5.0</td>\n",
       "      <td>337.0</td>\n",
       "      <td>2.0</td>\n",
       "      <td>706.0</td>\n",
       "      <td>0.0</td>\n",
       "      <td>2.0</td>\n",
       "      <td>0.0</td>\n",
       "    </tr>\n",
       "    <tr>\n",
       "      <th>2</th>\n",
       "      <td>3</td>\n",
       "      <td>297.0</td>\n",
       "      <td>2.0</td>\n",
       "      <td>102.0</td>\n",
       "      <td>7.0</td>\n",
       "      <td>325.0</td>\n",
       "      <td>2.0</td>\n",
       "      <td>735.0</td>\n",
       "      <td>0.0</td>\n",
       "      <td>7.0</td>\n",
       "      <td>0.0</td>\n",
       "    </tr>\n",
       "    <tr>\n",
       "      <th>3</th>\n",
       "      <td>4</td>\n",
       "      <td>183.0</td>\n",
       "      <td>4.0</td>\n",
       "      <td>83.0</td>\n",
       "      <td>1.0</td>\n",
       "      <td>348.0</td>\n",
       "      <td>2.0</td>\n",
       "      <td>621.0</td>\n",
       "      <td>0.0</td>\n",
       "      <td>1.0</td>\n",
       "      <td>0.0</td>\n",
       "    </tr>\n",
       "    <tr>\n",
       "      <th>4</th>\n",
       "      <td>5</td>\n",
       "      <td>223.0</td>\n",
       "      <td>2.0</td>\n",
       "      <td>96.0</td>\n",
       "      <td>3.0</td>\n",
       "      <td>387.0</td>\n",
       "      <td>1.0</td>\n",
       "      <td>712.0</td>\n",
       "      <td>0.0</td>\n",
       "      <td>0.0</td>\n",
       "      <td>0.0</td>\n",
       "    </tr>\n",
       "  </tbody>\n",
       "</table>\n",
       "</div>"
      ],
      "text/plain": [
       "  Pooling_Station_Number  Ajay_Kumar  Mukesh_Bharadwaj  Virender_kasan  \\\n",
       "0                      1       243.0               8.0           136.0   \n",
       "1                      2       210.0              10.0           142.0   \n",
       "2                      3       297.0               2.0           102.0   \n",
       "3                      4       183.0               4.0            83.0   \n",
       "4                      5       223.0               2.0            96.0   \n",
       "\n",
       "   Nanhey_Khan  Saurabh_Bharadwaj  Ashok_Kumar  Total_Of_Valid_Votes  \\\n",
       "0          0.0              348.0          0.0                 735.0   \n",
       "1          5.0              337.0          2.0                 706.0   \n",
       "2          7.0              325.0          2.0                 735.0   \n",
       "3          1.0              348.0          2.0                 621.0   \n",
       "4          3.0              387.0          1.0                 712.0   \n",
       "\n",
       "   No._Of_Rejected_Votes  Total_Votes_For_NOTA  No._Of_Tendered_Votes  \n",
       "0                    0.0                   6.0                    0.0  \n",
       "1                    0.0                   2.0                    0.0  \n",
       "2                    0.0                   7.0                    0.0  \n",
       "3                    0.0                   1.0                    0.0  \n",
       "4                    0.0                   0.0                    0.0  "
      ]
     },
     "execution_count": 30,
     "metadata": {},
     "output_type": "execute_result"
    }
   ],
   "source": [
    "df.head()"
   ]
  },
  {
   "cell_type": "code",
   "execution_count": 31,
   "metadata": {},
   "outputs": [
    {
     "data": {
      "text/html": [
       "<div>\n",
       "<style scoped>\n",
       "    .dataframe tbody tr th:only-of-type {\n",
       "        vertical-align: middle;\n",
       "    }\n",
       "\n",
       "    .dataframe tbody tr th {\n",
       "        vertical-align: top;\n",
       "    }\n",
       "\n",
       "    .dataframe thead th {\n",
       "        text-align: right;\n",
       "    }\n",
       "</style>\n",
       "<table border=\"1\" class=\"dataframe\">\n",
       "  <thead>\n",
       "    <tr style=\"text-align: right;\">\n",
       "      <th></th>\n",
       "      <th>Pooling_Station_Number</th>\n",
       "      <th>Ajay_Kumar</th>\n",
       "      <th>Mukesh_Bharadwaj</th>\n",
       "      <th>Virender_kasan</th>\n",
       "      <th>Nanhey_Khan</th>\n",
       "      <th>Saurabh_Bharadwaj</th>\n",
       "      <th>Ashok_Kumar</th>\n",
       "      <th>Total_Of_Valid_Votes</th>\n",
       "      <th>No._Of_Rejected_Votes</th>\n",
       "      <th>Total_Votes_For_NOTA</th>\n",
       "      <th>No._Of_Tendered_Votes</th>\n",
       "    </tr>\n",
       "  </thead>\n",
       "  <tbody>\n",
       "    <tr>\n",
       "      <th>152</th>\n",
       "      <td>155</td>\n",
       "      <td>127.0</td>\n",
       "      <td>1.0</td>\n",
       "      <td>63.0</td>\n",
       "      <td>1.0</td>\n",
       "      <td>179.0</td>\n",
       "      <td>0.0</td>\n",
       "      <td>371.0</td>\n",
       "      <td>0.0</td>\n",
       "      <td>3.0</td>\n",
       "      <td>0.0</td>\n",
       "    </tr>\n",
       "    <tr>\n",
       "      <th>153</th>\n",
       "      <td>156</td>\n",
       "      <td>208.0</td>\n",
       "      <td>6.0</td>\n",
       "      <td>166.0</td>\n",
       "      <td>1.0</td>\n",
       "      <td>314.0</td>\n",
       "      <td>2.0</td>\n",
       "      <td>697.0</td>\n",
       "      <td>0.0</td>\n",
       "      <td>5.0</td>\n",
       "      <td>0.0</td>\n",
       "    </tr>\n",
       "    <tr>\n",
       "      <th>154</th>\n",
       "      <td>Total No. of\\rvotes recorded\\rat Polling\\rStat...</td>\n",
       "      <td>29897.0</td>\n",
       "      <td>900.0</td>\n",
       "      <td>19641.0</td>\n",
       "      <td>425.0</td>\n",
       "      <td>42924.0</td>\n",
       "      <td>426.0</td>\n",
       "      <td>94213.0</td>\n",
       "      <td>0.0</td>\n",
       "      <td>636.0</td>\n",
       "      <td>2.0</td>\n",
       "    </tr>\n",
       "    <tr>\n",
       "      <th>155</th>\n",
       "      <td>No. of votes\\rrecorded on\\rpostal ballot\\rpapers.</td>\n",
       "      <td>108.0</td>\n",
       "      <td>12.0</td>\n",
       "      <td>73.0</td>\n",
       "      <td>1.0</td>\n",
       "      <td>173.0</td>\n",
       "      <td>1.0</td>\n",
       "      <td>368.0</td>\n",
       "      <td>41.0</td>\n",
       "      <td>3.0</td>\n",
       "      <td>0.0</td>\n",
       "    </tr>\n",
       "    <tr>\n",
       "      <th>156</th>\n",
       "      <td>(To be filled in\\rthe case of\\relection from a...</td>\n",
       "      <td>NaN</td>\n",
       "      <td>NaN</td>\n",
       "      <td>NaN</td>\n",
       "      <td>NaN</td>\n",
       "      <td>NaN</td>\n",
       "      <td>NaN</td>\n",
       "      <td>NaN</td>\n",
       "      <td>NaN</td>\n",
       "      <td>NaN</td>\n",
       "      <td>NaN</td>\n",
       "    </tr>\n",
       "  </tbody>\n",
       "</table>\n",
       "</div>"
      ],
      "text/plain": [
       "                                Pooling_Station_Number  Ajay_Kumar  \\\n",
       "152                                                155       127.0   \n",
       "153                                                156       208.0   \n",
       "154  Total No. of\\rvotes recorded\\rat Polling\\rStat...     29897.0   \n",
       "155  No. of votes\\rrecorded on\\rpostal ballot\\rpapers.       108.0   \n",
       "156  (To be filled in\\rthe case of\\relection from a...         NaN   \n",
       "\n",
       "     Mukesh_Bharadwaj  Virender_kasan  Nanhey_Khan  Saurabh_Bharadwaj  \\\n",
       "152               1.0            63.0          1.0              179.0   \n",
       "153               6.0           166.0          1.0              314.0   \n",
       "154             900.0         19641.0        425.0            42924.0   \n",
       "155              12.0            73.0          1.0              173.0   \n",
       "156               NaN             NaN          NaN                NaN   \n",
       "\n",
       "     Ashok_Kumar  Total_Of_Valid_Votes  No._Of_Rejected_Votes  \\\n",
       "152          0.0                 371.0                    0.0   \n",
       "153          2.0                 697.0                    0.0   \n",
       "154        426.0               94213.0                    0.0   \n",
       "155          1.0                 368.0                   41.0   \n",
       "156          NaN                   NaN                    NaN   \n",
       "\n",
       "     Total_Votes_For_NOTA  No._Of_Tendered_Votes  \n",
       "152                   3.0                    0.0  \n",
       "153                   5.0                    0.0  \n",
       "154                 636.0                    2.0  \n",
       "155                   3.0                    0.0  \n",
       "156                   NaN                    NaN  "
      ]
     },
     "execution_count": 31,
     "metadata": {},
     "output_type": "execute_result"
    }
   ],
   "source": [
    "df.tail()"
   ]
  },
  {
   "cell_type": "code",
   "execution_count": 32,
   "metadata": {},
   "outputs": [],
   "source": [
    "total_votes=df.iloc[154]"
   ]
  },
  {
   "cell_type": "code",
   "execution_count": 33,
   "metadata": {},
   "outputs": [
    {
     "data": {
      "text/plain": [
       "Pooling_Station_Number    Total No. of\\rvotes recorded\\rat Polling\\rStat...\n",
       "Ajay_Kumar                                                            29897\n",
       "Mukesh_Bharadwaj                                                        900\n",
       "Virender_kasan                                                        19641\n",
       "Nanhey_Khan                                                             425\n",
       "Saurabh_Bharadwaj                                                     42924\n",
       "Ashok_Kumar                                                             426\n",
       "Total_Of_Valid_Votes                                                  94213\n",
       "No._Of_Rejected_Votes                                                     0\n",
       "Total_Votes_For_NOTA                                                    636\n",
       "No._Of_Tendered_Votes                                                     2\n",
       "Name: 154, dtype: object"
      ]
     },
     "execution_count": 33,
     "metadata": {},
     "output_type": "execute_result"
    }
   ],
   "source": [
    "total_votes"
   ]
  },
  {
   "cell_type": "code",
   "execution_count": 34,
   "metadata": {},
   "outputs": [],
   "source": [
    "df.drop([154,155,156],inplace=True)"
   ]
  },
  {
   "cell_type": "code",
   "execution_count": 35,
   "metadata": {},
   "outputs": [
    {
     "data": {
      "text/html": [
       "<div>\n",
       "<style scoped>\n",
       "    .dataframe tbody tr th:only-of-type {\n",
       "        vertical-align: middle;\n",
       "    }\n",
       "\n",
       "    .dataframe tbody tr th {\n",
       "        vertical-align: top;\n",
       "    }\n",
       "\n",
       "    .dataframe thead th {\n",
       "        text-align: right;\n",
       "    }\n",
       "</style>\n",
       "<table border=\"1\" class=\"dataframe\">\n",
       "  <thead>\n",
       "    <tr style=\"text-align: right;\">\n",
       "      <th></th>\n",
       "      <th>Pooling_Station_Number</th>\n",
       "      <th>Ajay_Kumar</th>\n",
       "      <th>Mukesh_Bharadwaj</th>\n",
       "      <th>Virender_kasan</th>\n",
       "      <th>Nanhey_Khan</th>\n",
       "      <th>Saurabh_Bharadwaj</th>\n",
       "      <th>Ashok_Kumar</th>\n",
       "      <th>Total_Of_Valid_Votes</th>\n",
       "      <th>No._Of_Rejected_Votes</th>\n",
       "      <th>Total_Votes_For_NOTA</th>\n",
       "      <th>No._Of_Tendered_Votes</th>\n",
       "    </tr>\n",
       "  </thead>\n",
       "  <tbody>\n",
       "    <tr>\n",
       "      <th>149</th>\n",
       "      <td>152</td>\n",
       "      <td>260.0</td>\n",
       "      <td>1.0</td>\n",
       "      <td>135.0</td>\n",
       "      <td>1.0</td>\n",
       "      <td>240.0</td>\n",
       "      <td>2.0</td>\n",
       "      <td>639.0</td>\n",
       "      <td>0.0</td>\n",
       "      <td>4.0</td>\n",
       "      <td>0.0</td>\n",
       "    </tr>\n",
       "    <tr>\n",
       "      <th>150</th>\n",
       "      <td>153</td>\n",
       "      <td>80.0</td>\n",
       "      <td>0.0</td>\n",
       "      <td>50.0</td>\n",
       "      <td>1.0</td>\n",
       "      <td>126.0</td>\n",
       "      <td>0.0</td>\n",
       "      <td>257.0</td>\n",
       "      <td>0.0</td>\n",
       "      <td>2.0</td>\n",
       "      <td>0.0</td>\n",
       "    </tr>\n",
       "    <tr>\n",
       "      <th>151</th>\n",
       "      <td>154</td>\n",
       "      <td>203.0</td>\n",
       "      <td>0.0</td>\n",
       "      <td>132.0</td>\n",
       "      <td>2.0</td>\n",
       "      <td>285.0</td>\n",
       "      <td>2.0</td>\n",
       "      <td>624.0</td>\n",
       "      <td>0.0</td>\n",
       "      <td>4.0</td>\n",
       "      <td>0.0</td>\n",
       "    </tr>\n",
       "    <tr>\n",
       "      <th>152</th>\n",
       "      <td>155</td>\n",
       "      <td>127.0</td>\n",
       "      <td>1.0</td>\n",
       "      <td>63.0</td>\n",
       "      <td>1.0</td>\n",
       "      <td>179.0</td>\n",
       "      <td>0.0</td>\n",
       "      <td>371.0</td>\n",
       "      <td>0.0</td>\n",
       "      <td>3.0</td>\n",
       "      <td>0.0</td>\n",
       "    </tr>\n",
       "    <tr>\n",
       "      <th>153</th>\n",
       "      <td>156</td>\n",
       "      <td>208.0</td>\n",
       "      <td>6.0</td>\n",
       "      <td>166.0</td>\n",
       "      <td>1.0</td>\n",
       "      <td>314.0</td>\n",
       "      <td>2.0</td>\n",
       "      <td>697.0</td>\n",
       "      <td>0.0</td>\n",
       "      <td>5.0</td>\n",
       "      <td>0.0</td>\n",
       "    </tr>\n",
       "  </tbody>\n",
       "</table>\n",
       "</div>"
      ],
      "text/plain": [
       "    Pooling_Station_Number  Ajay_Kumar  Mukesh_Bharadwaj  Virender_kasan  \\\n",
       "149                    152       260.0               1.0           135.0   \n",
       "150                    153        80.0               0.0            50.0   \n",
       "151                    154       203.0               0.0           132.0   \n",
       "152                    155       127.0               1.0            63.0   \n",
       "153                    156       208.0               6.0           166.0   \n",
       "\n",
       "     Nanhey_Khan  Saurabh_Bharadwaj  Ashok_Kumar  Total_Of_Valid_Votes  \\\n",
       "149          1.0              240.0          2.0                 639.0   \n",
       "150          1.0              126.0          0.0                 257.0   \n",
       "151          2.0              285.0          2.0                 624.0   \n",
       "152          1.0              179.0          0.0                 371.0   \n",
       "153          1.0              314.0          2.0                 697.0   \n",
       "\n",
       "     No._Of_Rejected_Votes  Total_Votes_For_NOTA  No._Of_Tendered_Votes  \n",
       "149                    0.0                   4.0                    0.0  \n",
       "150                    0.0                   2.0                    0.0  \n",
       "151                    0.0                   4.0                    0.0  \n",
       "152                    0.0                   3.0                    0.0  \n",
       "153                    0.0                   5.0                    0.0  "
      ]
     },
     "execution_count": 35,
     "metadata": {},
     "output_type": "execute_result"
    }
   ],
   "source": [
    "df.tail()"
   ]
  },
  {
   "cell_type": "code",
   "execution_count": 36,
   "metadata": {},
   "outputs": [],
   "source": [
    "votes_pooling=pd.DataFrame(df.loc[:,['Pooling_Station_Number','Total_Of_Valid_Votes']])"
   ]
  },
  {
   "cell_type": "code",
   "execution_count": 37,
   "metadata": {},
   "outputs": [
    {
     "data": {
      "text/html": [
       "<div>\n",
       "<style scoped>\n",
       "    .dataframe tbody tr th:only-of-type {\n",
       "        vertical-align: middle;\n",
       "    }\n",
       "\n",
       "    .dataframe tbody tr th {\n",
       "        vertical-align: top;\n",
       "    }\n",
       "\n",
       "    .dataframe thead th {\n",
       "        text-align: right;\n",
       "    }\n",
       "</style>\n",
       "<table border=\"1\" class=\"dataframe\">\n",
       "  <thead>\n",
       "    <tr style=\"text-align: right;\">\n",
       "      <th></th>\n",
       "      <th>Pooling_Station_Number</th>\n",
       "      <th>Total_Of_Valid_Votes</th>\n",
       "    </tr>\n",
       "  </thead>\n",
       "  <tbody>\n",
       "    <tr>\n",
       "      <th>0</th>\n",
       "      <td>1</td>\n",
       "      <td>735.0</td>\n",
       "    </tr>\n",
       "    <tr>\n",
       "      <th>1</th>\n",
       "      <td>2</td>\n",
       "      <td>706.0</td>\n",
       "    </tr>\n",
       "    <tr>\n",
       "      <th>2</th>\n",
       "      <td>3</td>\n",
       "      <td>735.0</td>\n",
       "    </tr>\n",
       "    <tr>\n",
       "      <th>3</th>\n",
       "      <td>4</td>\n",
       "      <td>621.0</td>\n",
       "    </tr>\n",
       "    <tr>\n",
       "      <th>4</th>\n",
       "      <td>5</td>\n",
       "      <td>712.0</td>\n",
       "    </tr>\n",
       "  </tbody>\n",
       "</table>\n",
       "</div>"
      ],
      "text/plain": [
       "  Pooling_Station_Number  Total_Of_Valid_Votes\n",
       "0                      1                 735.0\n",
       "1                      2                 706.0\n",
       "2                      3                 735.0\n",
       "3                      4                 621.0\n",
       "4                      5                 712.0"
      ]
     },
     "execution_count": 37,
     "metadata": {},
     "output_type": "execute_result"
    }
   ],
   "source": [
    "votes_pooling.head()"
   ]
  },
  {
   "cell_type": "code",
   "execution_count": 38,
   "metadata": {},
   "outputs": [],
   "source": [
    "stats=df.describe()"
   ]
  },
  {
   "cell_type": "code",
   "execution_count": 39,
   "metadata": {},
   "outputs": [
    {
     "data": {
      "text/html": [
       "<div>\n",
       "<style scoped>\n",
       "    .dataframe tbody tr th:only-of-type {\n",
       "        vertical-align: middle;\n",
       "    }\n",
       "\n",
       "    .dataframe tbody tr th {\n",
       "        vertical-align: top;\n",
       "    }\n",
       "\n",
       "    .dataframe thead th {\n",
       "        text-align: right;\n",
       "    }\n",
       "</style>\n",
       "<table border=\"1\" class=\"dataframe\">\n",
       "  <thead>\n",
       "    <tr style=\"text-align: right;\">\n",
       "      <th></th>\n",
       "      <th>Ajay_Kumar</th>\n",
       "      <th>Mukesh_Bharadwaj</th>\n",
       "      <th>Virender_kasan</th>\n",
       "      <th>Nanhey_Khan</th>\n",
       "      <th>Saurabh_Bharadwaj</th>\n",
       "      <th>Ashok_Kumar</th>\n",
       "      <th>Total_Of_Valid_Votes</th>\n",
       "      <th>No._Of_Rejected_Votes</th>\n",
       "      <th>Total_Votes_For_NOTA</th>\n",
       "      <th>No._Of_Tendered_Votes</th>\n",
       "    </tr>\n",
       "  </thead>\n",
       "  <tbody>\n",
       "    <tr>\n",
       "      <th>count</th>\n",
       "      <td>154.000000</td>\n",
       "      <td>154.000000</td>\n",
       "      <td>154.000000</td>\n",
       "      <td>154.000000</td>\n",
       "      <td>154.000000</td>\n",
       "      <td>154.000000</td>\n",
       "      <td>154.000000</td>\n",
       "      <td>154.0</td>\n",
       "      <td>154.000000</td>\n",
       "      <td>154.000000</td>\n",
       "    </tr>\n",
       "    <tr>\n",
       "      <th>mean</th>\n",
       "      <td>192.012987</td>\n",
       "      <td>5.636364</td>\n",
       "      <td>125.207792</td>\n",
       "      <td>2.727273</td>\n",
       "      <td>275.525974</td>\n",
       "      <td>2.019481</td>\n",
       "      <td>603.129870</td>\n",
       "      <td>0.0</td>\n",
       "      <td>4.077922</td>\n",
       "      <td>0.012987</td>\n",
       "    </tr>\n",
       "    <tr>\n",
       "      <th>std</th>\n",
       "      <td>76.999193</td>\n",
       "      <td>11.629812</td>\n",
       "      <td>52.321864</td>\n",
       "      <td>3.140028</td>\n",
       "      <td>95.671428</td>\n",
       "      <td>7.312332</td>\n",
       "      <td>154.229551</td>\n",
       "      <td>0.0</td>\n",
       "      <td>2.399707</td>\n",
       "      <td>0.113588</td>\n",
       "    </tr>\n",
       "    <tr>\n",
       "      <th>min</th>\n",
       "      <td>71.000000</td>\n",
       "      <td>0.000000</td>\n",
       "      <td>30.000000</td>\n",
       "      <td>0.000000</td>\n",
       "      <td>106.000000</td>\n",
       "      <td>0.000000</td>\n",
       "      <td>257.000000</td>\n",
       "      <td>0.0</td>\n",
       "      <td>0.000000</td>\n",
       "      <td>0.000000</td>\n",
       "    </tr>\n",
       "    <tr>\n",
       "      <th>25%</th>\n",
       "      <td>143.250000</td>\n",
       "      <td>1.000000</td>\n",
       "      <td>83.750000</td>\n",
       "      <td>1.000000</td>\n",
       "      <td>212.000000</td>\n",
       "      <td>0.000000</td>\n",
       "      <td>500.500000</td>\n",
       "      <td>0.0</td>\n",
       "      <td>2.000000</td>\n",
       "      <td>0.000000</td>\n",
       "    </tr>\n",
       "    <tr>\n",
       "      <th>50%</th>\n",
       "      <td>187.000000</td>\n",
       "      <td>2.000000</td>\n",
       "      <td>116.500000</td>\n",
       "      <td>2.000000</td>\n",
       "      <td>267.000000</td>\n",
       "      <td>1.000000</td>\n",
       "      <td>597.500000</td>\n",
       "      <td>0.0</td>\n",
       "      <td>4.000000</td>\n",
       "      <td>0.000000</td>\n",
       "    </tr>\n",
       "    <tr>\n",
       "      <th>75%</th>\n",
       "      <td>235.750000</td>\n",
       "      <td>5.000000</td>\n",
       "      <td>155.000000</td>\n",
       "      <td>3.000000</td>\n",
       "      <td>322.000000</td>\n",
       "      <td>2.000000</td>\n",
       "      <td>706.750000</td>\n",
       "      <td>0.0</td>\n",
       "      <td>6.000000</td>\n",
       "      <td>0.000000</td>\n",
       "    </tr>\n",
       "    <tr>\n",
       "      <th>max</th>\n",
       "      <td>708.000000</td>\n",
       "      <td>96.000000</td>\n",
       "      <td>324.000000</td>\n",
       "      <td>29.000000</td>\n",
       "      <td>539.000000</td>\n",
       "      <td>85.000000</td>\n",
       "      <td>1010.000000</td>\n",
       "      <td>0.0</td>\n",
       "      <td>11.000000</td>\n",
       "      <td>1.000000</td>\n",
       "    </tr>\n",
       "  </tbody>\n",
       "</table>\n",
       "</div>"
      ],
      "text/plain": [
       "       Ajay_Kumar  Mukesh_Bharadwaj  Virender_kasan  Nanhey_Khan  \\\n",
       "count  154.000000        154.000000      154.000000   154.000000   \n",
       "mean   192.012987          5.636364      125.207792     2.727273   \n",
       "std     76.999193         11.629812       52.321864     3.140028   \n",
       "min     71.000000          0.000000       30.000000     0.000000   \n",
       "25%    143.250000          1.000000       83.750000     1.000000   \n",
       "50%    187.000000          2.000000      116.500000     2.000000   \n",
       "75%    235.750000          5.000000      155.000000     3.000000   \n",
       "max    708.000000         96.000000      324.000000    29.000000   \n",
       "\n",
       "       Saurabh_Bharadwaj  Ashok_Kumar  Total_Of_Valid_Votes  \\\n",
       "count         154.000000   154.000000            154.000000   \n",
       "mean          275.525974     2.019481            603.129870   \n",
       "std            95.671428     7.312332            154.229551   \n",
       "min           106.000000     0.000000            257.000000   \n",
       "25%           212.000000     0.000000            500.500000   \n",
       "50%           267.000000     1.000000            597.500000   \n",
       "75%           322.000000     2.000000            706.750000   \n",
       "max           539.000000    85.000000           1010.000000   \n",
       "\n",
       "       No._Of_Rejected_Votes  Total_Votes_For_NOTA  No._Of_Tendered_Votes  \n",
       "count                  154.0            154.000000             154.000000  \n",
       "mean                     0.0              4.077922               0.012987  \n",
       "std                      0.0              2.399707               0.113588  \n",
       "min                      0.0              0.000000               0.000000  \n",
       "25%                      0.0              2.000000               0.000000  \n",
       "50%                      0.0              4.000000               0.000000  \n",
       "75%                      0.0              6.000000               0.000000  \n",
       "max                      0.0             11.000000               1.000000  "
      ]
     },
     "execution_count": 39,
     "metadata": {},
     "output_type": "execute_result"
    }
   ],
   "source": [
    "stats"
   ]
  },
  {
   "cell_type": "code",
   "execution_count": 40,
   "metadata": {},
   "outputs": [
    {
     "data": {
      "text/plain": [
       "Index(['Ajay_Kumar', 'Mukesh_Bharadwaj', 'Virender_kasan', 'Nanhey_Khan',\n",
       "       'Saurabh_Bharadwaj', 'Ashok_Kumar', 'Total_Of_Valid_Votes',\n",
       "       'No._Of_Rejected_Votes', 'Total_Votes_For_NOTA',\n",
       "       'No._Of_Tendered_Votes'],\n",
       "      dtype='object')"
      ]
     },
     "execution_count": 40,
     "metadata": {},
     "output_type": "execute_result"
    }
   ],
   "source": [
    "stats.columns"
   ]
  },
  {
   "cell_type": "code",
   "execution_count": 41,
   "metadata": {},
   "outputs": [],
   "source": [
    "stats.drop(['Total_Of_Valid_Votes','No._Of_Rejected_Votes','Total_Votes_For_NOTA','No._Of_Tendered_Votes'],axis=1,inplace=True)"
   ]
  },
  {
   "cell_type": "code",
   "execution_count": 42,
   "metadata": {},
   "outputs": [
    {
     "data": {
      "text/html": [
       "<div>\n",
       "<style scoped>\n",
       "    .dataframe tbody tr th:only-of-type {\n",
       "        vertical-align: middle;\n",
       "    }\n",
       "\n",
       "    .dataframe tbody tr th {\n",
       "        vertical-align: top;\n",
       "    }\n",
       "\n",
       "    .dataframe thead th {\n",
       "        text-align: right;\n",
       "    }\n",
       "</style>\n",
       "<table border=\"1\" class=\"dataframe\">\n",
       "  <thead>\n",
       "    <tr style=\"text-align: right;\">\n",
       "      <th></th>\n",
       "      <th>Ajay_Kumar</th>\n",
       "      <th>Mukesh_Bharadwaj</th>\n",
       "      <th>Virender_kasan</th>\n",
       "      <th>Nanhey_Khan</th>\n",
       "      <th>Saurabh_Bharadwaj</th>\n",
       "      <th>Ashok_Kumar</th>\n",
       "    </tr>\n",
       "  </thead>\n",
       "  <tbody>\n",
       "    <tr>\n",
       "      <th>count</th>\n",
       "      <td>154.000000</td>\n",
       "      <td>154.000000</td>\n",
       "      <td>154.000000</td>\n",
       "      <td>154.000000</td>\n",
       "      <td>154.000000</td>\n",
       "      <td>154.000000</td>\n",
       "    </tr>\n",
       "    <tr>\n",
       "      <th>mean</th>\n",
       "      <td>192.012987</td>\n",
       "      <td>5.636364</td>\n",
       "      <td>125.207792</td>\n",
       "      <td>2.727273</td>\n",
       "      <td>275.525974</td>\n",
       "      <td>2.019481</td>\n",
       "    </tr>\n",
       "    <tr>\n",
       "      <th>std</th>\n",
       "      <td>76.999193</td>\n",
       "      <td>11.629812</td>\n",
       "      <td>52.321864</td>\n",
       "      <td>3.140028</td>\n",
       "      <td>95.671428</td>\n",
       "      <td>7.312332</td>\n",
       "    </tr>\n",
       "    <tr>\n",
       "      <th>min</th>\n",
       "      <td>71.000000</td>\n",
       "      <td>0.000000</td>\n",
       "      <td>30.000000</td>\n",
       "      <td>0.000000</td>\n",
       "      <td>106.000000</td>\n",
       "      <td>0.000000</td>\n",
       "    </tr>\n",
       "    <tr>\n",
       "      <th>25%</th>\n",
       "      <td>143.250000</td>\n",
       "      <td>1.000000</td>\n",
       "      <td>83.750000</td>\n",
       "      <td>1.000000</td>\n",
       "      <td>212.000000</td>\n",
       "      <td>0.000000</td>\n",
       "    </tr>\n",
       "    <tr>\n",
       "      <th>50%</th>\n",
       "      <td>187.000000</td>\n",
       "      <td>2.000000</td>\n",
       "      <td>116.500000</td>\n",
       "      <td>2.000000</td>\n",
       "      <td>267.000000</td>\n",
       "      <td>1.000000</td>\n",
       "    </tr>\n",
       "    <tr>\n",
       "      <th>75%</th>\n",
       "      <td>235.750000</td>\n",
       "      <td>5.000000</td>\n",
       "      <td>155.000000</td>\n",
       "      <td>3.000000</td>\n",
       "      <td>322.000000</td>\n",
       "      <td>2.000000</td>\n",
       "    </tr>\n",
       "    <tr>\n",
       "      <th>max</th>\n",
       "      <td>708.000000</td>\n",
       "      <td>96.000000</td>\n",
       "      <td>324.000000</td>\n",
       "      <td>29.000000</td>\n",
       "      <td>539.000000</td>\n",
       "      <td>85.000000</td>\n",
       "    </tr>\n",
       "  </tbody>\n",
       "</table>\n",
       "</div>"
      ],
      "text/plain": [
       "       Ajay_Kumar  Mukesh_Bharadwaj  Virender_kasan  Nanhey_Khan  \\\n",
       "count  154.000000        154.000000      154.000000   154.000000   \n",
       "mean   192.012987          5.636364      125.207792     2.727273   \n",
       "std     76.999193         11.629812       52.321864     3.140028   \n",
       "min     71.000000          0.000000       30.000000     0.000000   \n",
       "25%    143.250000          1.000000       83.750000     1.000000   \n",
       "50%    187.000000          2.000000      116.500000     2.000000   \n",
       "75%    235.750000          5.000000      155.000000     3.000000   \n",
       "max    708.000000         96.000000      324.000000    29.000000   \n",
       "\n",
       "       Saurabh_Bharadwaj  Ashok_Kumar  \n",
       "count         154.000000   154.000000  \n",
       "mean          275.525974     2.019481  \n",
       "std            95.671428     7.312332  \n",
       "min           106.000000     0.000000  \n",
       "25%           212.000000     0.000000  \n",
       "50%           267.000000     1.000000  \n",
       "75%           322.000000     2.000000  \n",
       "max           539.000000    85.000000  "
      ]
     },
     "execution_count": 42,
     "metadata": {},
     "output_type": "execute_result"
    }
   ],
   "source": [
    "stats"
   ]
  },
  {
   "cell_type": "code",
   "execution_count": 43,
   "metadata": {},
   "outputs": [],
   "source": [
    "candidate=['Ajay_Kumar','Mukesh_Bharadwaj','Virender_kasan','Nanhey_Khan','Saurabh_Bharadwaj',\n",
    "            'Ashok_Kumar']"
   ]
  },
  {
   "cell_type": "code",
   "execution_count": 44,
   "metadata": {},
   "outputs": [
    {
     "data": {
      "text/plain": [
       "'Mukesh_Bharadwaj'"
      ]
     },
     "execution_count": 44,
     "metadata": {},
     "output_type": "execute_result"
    }
   ],
   "source": [
    "candidate[1]"
   ]
  },
  {
   "cell_type": "code",
   "execution_count": 45,
   "metadata": {},
   "outputs": [],
   "source": [
    "votes=pd.DataFrame(total_votes,index=candidate)\n",
    "votes.columns=['Total_Votes']\n",
    "votes['Average_Votes_Per_Station']=stats.loc['mean',:]\n",
    "votes['Maximum_Votes_From_A_Station']=stats.loc['max',:]\n",
    "votes['Minimum_Votes_From_A_Station']=stats.loc['min',:]"
   ]
  },
  {
   "cell_type": "code",
   "execution_count": 46,
   "metadata": {},
   "outputs": [
    {
     "data": {
      "text/html": [
       "<div>\n",
       "<style scoped>\n",
       "    .dataframe tbody tr th:only-of-type {\n",
       "        vertical-align: middle;\n",
       "    }\n",
       "\n",
       "    .dataframe tbody tr th {\n",
       "        vertical-align: top;\n",
       "    }\n",
       "\n",
       "    .dataframe thead th {\n",
       "        text-align: right;\n",
       "    }\n",
       "</style>\n",
       "<table border=\"1\" class=\"dataframe\">\n",
       "  <thead>\n",
       "    <tr style=\"text-align: right;\">\n",
       "      <th></th>\n",
       "      <th>Total_Votes</th>\n",
       "      <th>Average_Votes_Per_Station</th>\n",
       "      <th>Maximum_Votes_From_A_Station</th>\n",
       "      <th>Minimum_Votes_From_A_Station</th>\n",
       "    </tr>\n",
       "  </thead>\n",
       "  <tbody>\n",
       "    <tr>\n",
       "      <th>Ajay_Kumar</th>\n",
       "      <td>29897</td>\n",
       "      <td>192.012987</td>\n",
       "      <td>708.0</td>\n",
       "      <td>71.0</td>\n",
       "    </tr>\n",
       "    <tr>\n",
       "      <th>Mukesh_Bharadwaj</th>\n",
       "      <td>900</td>\n",
       "      <td>5.636364</td>\n",
       "      <td>96.0</td>\n",
       "      <td>0.0</td>\n",
       "    </tr>\n",
       "    <tr>\n",
       "      <th>Virender_kasan</th>\n",
       "      <td>19641</td>\n",
       "      <td>125.207792</td>\n",
       "      <td>324.0</td>\n",
       "      <td>30.0</td>\n",
       "    </tr>\n",
       "    <tr>\n",
       "      <th>Nanhey_Khan</th>\n",
       "      <td>425</td>\n",
       "      <td>2.727273</td>\n",
       "      <td>29.0</td>\n",
       "      <td>0.0</td>\n",
       "    </tr>\n",
       "    <tr>\n",
       "      <th>Saurabh_Bharadwaj</th>\n",
       "      <td>42924</td>\n",
       "      <td>275.525974</td>\n",
       "      <td>539.0</td>\n",
       "      <td>106.0</td>\n",
       "    </tr>\n",
       "  </tbody>\n",
       "</table>\n",
       "</div>"
      ],
      "text/plain": [
       "                  Total_Votes  Average_Votes_Per_Station  \\\n",
       "Ajay_Kumar              29897                 192.012987   \n",
       "Mukesh_Bharadwaj          900                   5.636364   \n",
       "Virender_kasan          19641                 125.207792   \n",
       "Nanhey_Khan               425                   2.727273   \n",
       "Saurabh_Bharadwaj       42924                 275.525974   \n",
       "\n",
       "                   Maximum_Votes_From_A_Station  Minimum_Votes_From_A_Station  \n",
       "Ajay_Kumar                                708.0                          71.0  \n",
       "Mukesh_Bharadwaj                           96.0                           0.0  \n",
       "Virender_kasan                            324.0                          30.0  \n",
       "Nanhey_Khan                                29.0                           0.0  \n",
       "Saurabh_Bharadwaj                         539.0                         106.0  "
      ]
     },
     "execution_count": 46,
     "metadata": {},
     "output_type": "execute_result"
    }
   ],
   "source": [
    "votes.head()"
   ]
  },
  {
   "cell_type": "code",
   "execution_count": 47,
   "metadata": {},
   "outputs": [],
   "source": [
    "max_list=[]\n",
    "for i in range(len(candidate)):\n",
    "    max_list.append(df[candidate[i]].idxmax())"
   ]
  },
  {
   "cell_type": "code",
   "execution_count": 48,
   "metadata": {},
   "outputs": [],
   "source": [
    "min_list=[]\n",
    "for i in range(len(candidate)):\n",
    "    min_list.append(df[candidate[i]].idxmin())"
   ]
  },
  {
   "cell_type": "code",
   "execution_count": 49,
   "metadata": {},
   "outputs": [],
   "source": [
    "votes['Maximum_Votes_Pooling_Station']=max_list\n",
    "votes['Minimum_Votes_Pooling_Station']=min_list"
   ]
  },
  {
   "cell_type": "code",
   "execution_count": 50,
   "metadata": {},
   "outputs": [
    {
     "data": {
      "text/html": [
       "<div>\n",
       "<style scoped>\n",
       "    .dataframe tbody tr th:only-of-type {\n",
       "        vertical-align: middle;\n",
       "    }\n",
       "\n",
       "    .dataframe tbody tr th {\n",
       "        vertical-align: top;\n",
       "    }\n",
       "\n",
       "    .dataframe thead th {\n",
       "        text-align: right;\n",
       "    }\n",
       "</style>\n",
       "<table border=\"1\" class=\"dataframe\">\n",
       "  <thead>\n",
       "    <tr style=\"text-align: right;\">\n",
       "      <th></th>\n",
       "      <th>Total_Votes</th>\n",
       "      <th>Average_Votes_Per_Station</th>\n",
       "      <th>Maximum_Votes_From_A_Station</th>\n",
       "      <th>Minimum_Votes_From_A_Station</th>\n",
       "      <th>Maximum_Votes_Pooling_Station</th>\n",
       "      <th>Minimum_Votes_Pooling_Station</th>\n",
       "    </tr>\n",
       "  </thead>\n",
       "  <tbody>\n",
       "    <tr>\n",
       "      <th>Ajay_Kumar</th>\n",
       "      <td>29897</td>\n",
       "      <td>192.012987</td>\n",
       "      <td>708.0</td>\n",
       "      <td>71.0</td>\n",
       "      <td>42</td>\n",
       "      <td>14</td>\n",
       "    </tr>\n",
       "    <tr>\n",
       "      <th>Mukesh_Bharadwaj</th>\n",
       "      <td>900</td>\n",
       "      <td>5.636364</td>\n",
       "      <td>96.0</td>\n",
       "      <td>0.0</td>\n",
       "      <td>47</td>\n",
       "      <td>6</td>\n",
       "    </tr>\n",
       "    <tr>\n",
       "      <th>Virender_kasan</th>\n",
       "      <td>19641</td>\n",
       "      <td>125.207792</td>\n",
       "      <td>324.0</td>\n",
       "      <td>30.0</td>\n",
       "      <td>62</td>\n",
       "      <td>61</td>\n",
       "    </tr>\n",
       "    <tr>\n",
       "      <th>Nanhey_Khan</th>\n",
       "      <td>425</td>\n",
       "      <td>2.727273</td>\n",
       "      <td>29.0</td>\n",
       "      <td>0.0</td>\n",
       "      <td>48</td>\n",
       "      <td>0</td>\n",
       "    </tr>\n",
       "    <tr>\n",
       "      <th>Saurabh_Bharadwaj</th>\n",
       "      <td>42924</td>\n",
       "      <td>275.525974</td>\n",
       "      <td>539.0</td>\n",
       "      <td>106.0</td>\n",
       "      <td>67</td>\n",
       "      <td>44</td>\n",
       "    </tr>\n",
       "  </tbody>\n",
       "</table>\n",
       "</div>"
      ],
      "text/plain": [
       "                  Total_Votes  Average_Votes_Per_Station  \\\n",
       "Ajay_Kumar              29897                 192.012987   \n",
       "Mukesh_Bharadwaj          900                   5.636364   \n",
       "Virender_kasan          19641                 125.207792   \n",
       "Nanhey_Khan               425                   2.727273   \n",
       "Saurabh_Bharadwaj       42924                 275.525974   \n",
       "\n",
       "                   Maximum_Votes_From_A_Station  Minimum_Votes_From_A_Station  \\\n",
       "Ajay_Kumar                                708.0                          71.0   \n",
       "Mukesh_Bharadwaj                           96.0                           0.0   \n",
       "Virender_kasan                            324.0                          30.0   \n",
       "Nanhey_Khan                                29.0                           0.0   \n",
       "Saurabh_Bharadwaj                         539.0                         106.0   \n",
       "\n",
       "                   Maximum_Votes_Pooling_Station  \\\n",
       "Ajay_Kumar                                    42   \n",
       "Mukesh_Bharadwaj                              47   \n",
       "Virender_kasan                                62   \n",
       "Nanhey_Khan                                   48   \n",
       "Saurabh_Bharadwaj                             67   \n",
       "\n",
       "                   Minimum_Votes_Pooling_Station  \n",
       "Ajay_Kumar                                    14  \n",
       "Mukesh_Bharadwaj                               6  \n",
       "Virender_kasan                                61  \n",
       "Nanhey_Khan                                    0  \n",
       "Saurabh_Bharadwaj                             44  "
      ]
     },
     "execution_count": 50,
     "metadata": {},
     "output_type": "execute_result"
    }
   ],
   "source": [
    "votes.head()"
   ]
  },
  {
   "cell_type": "code",
   "execution_count": 52,
   "metadata": {},
   "outputs": [
    {
     "data": {
      "image/png": "[encoded data removed]",
      "text/plain": [
       "<Figure size 1152x576 with 1 Axes>"
      ]
     },
     "metadata": {
      "needs_background": "light"
     },
     "output_type": "display_data"
    },
    {
     "data": {
      "text/plain": [
       "<Figure size 432x288 with 0 Axes>"
      ]
     },
     "metadata": {},
     "output_type": "display_data"
    }
   ],
   "source": [
    "plt.figure(figsize=(16,8))\n",
    "plt.plot(votes_pooling['Pooling_Station_Number'],votes_pooling['Total_Of_Valid_Votes'])\n",
    "plt.xticks(np.arange(1,164,10))\n",
    "plt.xlabel('Pooling Station')\n",
    "plt.ylabel('Total Votes')\n",
    "plt.show()\n",
    "plt.tight_layout()"
   ]
  },
  {
   "cell_type": "code",
   "execution_count": 54,
   "metadata": {},
   "outputs": [
    {
     "data": {
      "image/png": "[encoded data removed]",
      "text/plain": [
       "<Figure size 1440x576 with 1 Axes>"
      ]
     },
     "metadata": {
      "needs_background": "light"
     },
     "output_type": "display_data"
    },
    {
     "data": {
      "text/plain": [
       "<Figure size 432x288 with 0 Axes>"
      ]
     },
     "metadata": {},
     "output_type": "display_data"
    }
   ],
   "source": [
    "plt.figure(figsize=(20,8))\n",
    "plt.scatter(votes.index,votes['Total_Votes'])\n",
    "plt.xlabel('Candidates')\n",
    "plt.ylabel('Total Votes')\n",
    "plt.show()\n",
    "plt.tight_layout()"
   ]
  },
  {
   "cell_type": "code",
   "execution_count": 55,
   "metadata": {},
   "outputs": [
    {
     "data": {
      "image/png": "[encoded data removed]",
      "text/plain": [
       "<Figure size 1440x576 with 1 Axes>"
      ]
     },
     "metadata": {
      "needs_background": "light"
     },
     "output_type": "display_data"
    },
    {
     "data": {
      "text/plain": [
       "<Figure size 432x288 with 0 Axes>"
      ]
     },
     "metadata": {},
     "output_type": "display_data"
    }
   ],
   "source": [
    "plt.figure(figsize=(20,8))\n",
    "plt.scatter(votes.index,votes['Average_Votes_Per_Station'])\n",
    "plt.xlabel('Candidates')\n",
    "plt.ylabel('Average Votes Per Station')\n",
    "plt.show()\n",
    "plt.tight_layout()"
   ]
  },
  {
   "cell_type": "code",
   "execution_count": 56,
   "metadata": {},
   "outputs": [
    {
     "data": {
      "image/png": "[encoded data removed]",
      "text/plain": [
       "<Figure size 1152x576 with 1 Axes>"
      ]
     },
     "metadata": {
      "needs_background": "light"
     },
     "output_type": "display_data"
    },
    {
     "data": {
      "text/plain": [
       "<Figure size 432x288 with 0 Axes>"
      ]
     },
     "metadata": {},
     "output_type": "display_data"
    }
   ],
   "source": [
    "plt.figure(figsize=(16,8))\n",
    "plt.scatter(df['Pooling_Station_Number'],df['Ajay_Kumar'])\n",
    "plt.xticks(np.arange(1,164,10))\n",
    "plt.xlabel('Pooling Station')\n",
    "plt.ylabel('Votes')\n",
    "plt.show()\n",
    "plt.tight_layout()"
   ]
  },
  {
   "cell_type": "code",
   "execution_count": 57,
   "metadata": {},
   "outputs": [
    {
     "data": {
      "image/png": "[encoded data removed]",
      "text/plain": [
       "<Figure size 1152x576 with 1 Axes>"
      ]
     },
     "metadata": {
      "needs_background": "light"
     },
     "output_type": "display_data"
    },
    {
     "data": {
      "text/plain": [
       "<Figure size 432x288 with 0 Axes>"
      ]
     },
     "metadata": {},
     "output_type": "display_data"
    }
   ],
   "source": [
    "plt.figure(figsize=(16,8))\n",
    "plt.scatter(df['Pooling_Station_Number'],df['Saurabh_Bharadwaj'])\n",
    "plt.xticks(np.arange(1,164,10))\n",
    "plt.xlabel('Pooling Station')\n",
    "plt.ylabel('Votes')\n",
    "plt.show()\n",
    "plt.tight_layout()"
   ]
  }
 ],
 "metadata": {
  "kernelspec": {
   "display_name": "Python 3",
   "language": "python",
   "name": "python3"
  },
  "language_info": {
   "codemirror_mode": {
    "name": "ipython",
    "version": 3
   },
   "file_extension": ".py",
   "mimetype": "text/x-python",
   "name": "python",
   "nbconvert_exporter": "python",
   "pygments_lexer": "ipython3",
   "version": "3.7.3"
  }
 },
 "nbformat": 4,
 "nbformat_minor": 2
}
